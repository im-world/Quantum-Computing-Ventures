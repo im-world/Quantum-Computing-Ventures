{
 "cells": [
  {
   "cell_type": "code",
   "execution_count": 1,
   "metadata": {},
   "outputs": [
    {
     "name": "stderr",
     "output_type": "stream",
     "text": [
      "C:\\Users\\ASUS\\Anaconda3\\lib\\site-packages\\numpy\\_distributor_init.py:32: UserWarning: loaded more than 1 DLL from .libs:\n",
      "C:\\Users\\ASUS\\Anaconda3\\lib\\site-packages\\numpy\\.libs\\libopenblas.QVLO2T66WEPI7JZ63PS3HMOHFEY472BC.gfortran-win_amd64.dll\n",
      "C:\\Users\\ASUS\\Anaconda3\\lib\\site-packages\\numpy\\.libs\\libopenblas.WCDJNK7YVMPZQ2ME2ZZHJJRJ3JIKNDB7.gfortran-win_amd64.dll\n",
      "  stacklevel=1)\n"
     ]
    }
   ],
   "source": [
    "from qiskit.quantum_info import Operator\n",
    "from qiskit import QuantumCircuit\n",
    "from qiskit.visualization import plot_histogram\n",
    "from qiskit import *\n",
    "import matplotlib.pyplot as plt \n",
    "import numpy as np\n",
    "import math\n",
    "import cmath"
   ]
  },
  {
   "cell_type": "code",
   "execution_count": 2,
   "metadata": {},
   "outputs": [],
   "source": [
    "def limDivision(x, y):\n",
    "    if(y != 0):\n",
    "        return x/y\n",
    "    else:\n",
    "        return 0"
   ]
  },
  {
   "cell_type": "code",
   "execution_count": 3,
   "metadata": {},
   "outputs": [
    {
     "name": "stdout",
     "output_type": "stream",
     "text": [
      "The input matrix is [[0, (-0-1j)], [1j, 0]]\n"
     ]
    }
   ],
   "source": [
    "#input 2x2 matrix\n",
    "\n",
    "paramsA = [math.pi, 0, 0]  #pauli-y\n",
    "true_value1 = [[1/np.sqrt(2)], [1/np.sqrt(2)]]\n",
    "true_value2 = [[1/np.sqrt(2)], [-1/np.sqrt(2)]]\n",
    "\n",
    "a11 = 0 \n",
    "a12 = -1J \n",
    "a21 = 1J \n",
    "a22 = 0 \n",
    "\n",
    "A = [[a11, a12], [a21, a22]] \n",
    "nShots = 10000\n",
    "\n",
    "print(\"The input matrix is\", A)"
   ]
  },
  {
   "cell_type": "code",
   "execution_count": 4,
   "metadata": {},
   "outputs": [],
   "source": [
    "def mapAtoU(A):\n",
    "    thetaA = 2*math.acos(a11)\n",
    "    phiA = 1j*cmath.log(limDivision(-a21, cmath.sin(thetaA/2)))\n",
    "    lambdaA = -1j*cmath.log(limDivision(-a12, cmath.sin(thetaA/2)))\n",
    "    \n",
    "    paramsA = [thetaA, phiA, lambdaA]\n",
    "    \n",
    "    return paramsA"
   ]
  },
  {
   "cell_type": "code",
   "execution_count": 5,
   "metadata": {},
   "outputs": [
    {
     "data": {
      "image/png": "[encoded data removed]",
      "text/plain": [
       "<Figure size 261.032x204.68 with 1 Axes>"
      ]
     },
     "execution_count": 5,
     "metadata": {},
     "output_type": "execute_result"
    }
   ],
   "source": [
    "def eigenvectorCircuit(params):\n",
    "    q = QuantumRegister(2, 'q')\n",
    "    c = ClassicalRegister(2, 'c')\n",
    "    qc = QuantumCircuit(q, c, name = 'eigenvectorCircuit')\n",
    "    qc.u3(params[0], params[1], params[2], 0)\n",
    "    qc.measure(q[0], c[0])\n",
    "    return qc\n",
    "\n",
    "eigenvectorCircuit([1.0, 1.0, 1.0]).draw('mpl')"
   ]
  },
  {
   "cell_type": "code",
   "execution_count": 6,
   "metadata": {},
   "outputs": [
    {
     "data": {
      "image/png": "[encoded data removed]",
      "text/plain": [
       "<Figure size 441.632x204.68 with 1 Axes>"
      ]
     },
     "execution_count": 6,
     "metadata": {},
     "output_type": "execute_result"
    }
   ],
   "source": [
    "def variationalCircuit(params):\n",
    "    \n",
    "    #paramsA = [math.pi, math.pi/2, math.pi/2]  #pauli-y\n",
    "    #paramsA = [math.pi, 0, 0]  #pauli-x\n",
    "    #paramsA = [0, math.pi/4, math.pi/4]  #pauli-z\n",
    "    #paramsA = mapAtoU(A)\n",
    "    \n",
    "    q = QuantumRegister(2, 'q')\n",
    "    c = ClassicalRegister(2, 'c')\n",
    "    qc = QuantumCircuit(q, c, name = 'variationalCircuit')\n",
    "    qc.u3(params[0], params[1], params[2], 1)\n",
    "    qc.u3(paramsA[0], paramsA[1], paramsA[2], 1)\n",
    "    qc.measure(q[1], c[1])\n",
    "    return qc\n",
    "    \n",
    "variationalCircuit([0.5, 0.5, 0.5]).draw('mpl')"
   ]
  },
  {
   "cell_type": "code",
   "execution_count": 9,
   "metadata": {},
   "outputs": [],
   "source": [
    "def objective_function(params):\n",
    "    \n",
    "    q = QuantumRegister(2, 'q')\n",
    "    c = ClassicalRegister(2, 'c')\n",
    "    qc = QuantumCircuit(q, c, name = 'objective_function')\n",
    "    \n",
    "    qc.append(eigenvectorCircuit(params), range(2), range(2))\n",
    "    qc.append(variationalCircuit(params), range(2), range(2))\n",
    "    \n",
    "    from qiskit import Aer, execute\n",
    "    simulator = Aer.get_backend('qasm_simulator')\n",
    "    counts = execute(qc, backend=simulator, shots=nShots).result().get_counts(qc)\n",
    "    \n",
    "    if '01' not in counts:\n",
    "        counts['01'] = 0\n",
    "        \n",
    "    if '10' not in counts:\n",
    "        counts['10'] = 0\n",
    "    \n",
    "    cost = (counts['01'] + counts['10'] - counts['00'] - counts['11']) #maximizing the correlation\n",
    "                                                                        \n",
    "    return cost\n",
    "\n",
    "\n",
    "#objective_function([0.5, 0.5, 0.5], A, 1000).draw('mpl')"
   ]
  },
  {
   "cell_type": "code",
   "execution_count": 10,
   "metadata": {},
   "outputs": [
    {
     "name": "stdout",
     "output_type": "stream",
     "text": [
      "Output Error (Manhattan Distance): 108.0\n",
      "\n",
      "Parameters Found: [1.46942998 1.92765557 0.21243624]\n",
      "\n",
      "Norm: 1.0\n",
      "\n",
      "Eigenvector Found: [[(0.7420218481126669-0j)], [(-0.23418440644540334+0.6281410993568852j)]]\n",
      "\n",
      "Difference: [[-0.03491507+0.j       ]\n",
      " [ 0.94129119-0.6281411j]] \n",
      "\n",
      " [[-0.03491507+0.j       ]\n",
      " [-0.47292237-0.6281411j]]\n"
     ]
    }
   ],
   "source": [
    "from qiskit.aqua.components.optimizers import COBYLA\n",
    "\n",
    "optimizer = COBYLA(maxiter=10000, tol=0.001/nShots)\n",
    "\n",
    "params = np.random.rand(3)\n",
    "ret = optimizer.optimize(num_vars=3, objective_function=objective_function, initial_point=params)\n",
    "\n",
    "element11 = cmath.cos(ret[0][0]/2)\n",
    "element21 = cmath.exp(1J*ret[0][1])*cmath.sin(ret[0][0]/2)\n",
    "\n",
    "#normalizingFactor = 1.0\n",
    "\n",
    "norm = pow(np.abs(element11), 2) + pow(np.abs(element21), 2)\n",
    "normalizingFactor = math.sqrt(norm)\n",
    "\n",
    "eigenvector = [[element11/normalizingFactor], [element21/normalizingFactor]]\n",
    "\n",
    "diff1 = np.array(true_value1) - np.array(eigenvector)\n",
    "diff2 = np.array(true_value2) - np.array(eigenvector)\n",
    "\n",
    "print(\"Output Error (Manhattan Distance):\", ret[1])\n",
    "print(\"\\nParameters Found:\", ret[0])\n",
    "print(\"\\nNorm:\", norm)\n",
    "print(\"\\nEigenvector Found:\", eigenvector)\n",
    "print(\"\\nDifference:\", diff1, \"\\n\\n\", diff2)"
   ]
  }
 ],
 "metadata": {
  "kernelspec": {
   "display_name": "Python 3",
   "language": "python",
   "name": "python3"
  },
  "language_info": {
   "codemirror_mode": {
    "name": "ipython",
    "version": 3
   },
   "file_extension": ".py",
   "mimetype": "text/x-python",
   "name": "python",
   "nbconvert_exporter": "python",
   "pygments_lexer": "ipython3",
   "version": "3.7.3"
  }
 },
 "nbformat": 4,
 "nbformat_minor": 4
}
