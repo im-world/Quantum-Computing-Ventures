{
 "cells": [
  {
   "cell_type": "code",
   "execution_count": 36,
   "metadata": {},
   "outputs": [],
   "source": [
    "from qiskit.quantum_info import Operator\n",
    "from qiskit import QuantumCircuit\n",
    "from qiskit.visualization import plot_histogram\n",
    "from qiskit import *\n",
    "import matplotlib.pyplot as plt \n",
    "import numpy as np\n",
    "import math\n",
    "import cmath"
   ]
  },
  {
   "cell_type": "code",
   "execution_count": 37,
   "metadata": {},
   "outputs": [],
   "source": [
    "def limDivision(x, y):\n",
    "    if(y != 0):\n",
    "        return x/y\n",
    "    else:\n",
    "        return 0"
   ]
  },
  {
   "cell_type": "code",
   "execution_count": 47,
   "metadata": {},
   "outputs": [
    {
     "name": "stdout",
     "output_type": "stream",
     "text": [
      "The input matrix is [[0, (-0-1j)], [1j, 0]]\n"
     ]
    }
   ],
   "source": [
    "#input 2x2 matrix\n",
    "\n",
    "#paramsA = [math.pi, 0, 0]  #pauli-x\n",
    "#true_value1 = [[1/np.sqrt(2)], [1/np.sqrt(2)]]\n",
    "#true_value2 = [[1/np.sqrt(2)], [-1/np.sqrt(2)]]\n",
    "\n",
    "#paramsA = [math.pi, math.pi/2, math.pi/2]  #pauli-y\n",
    "#true_value1 = [[1/np.sqrt(2)], [1J/np.sqrt(2)]]\n",
    "#true_value2 = [[1/np.sqrt(2)], [-1J/np.sqrt(2)]]\n",
    "\n",
    "#paramsA = [0, math.pi/2, math.pi/2]  #pauli-z\n",
    "#true_value1 = [[1], [0]]\n",
    "#true_value2 = [[0], [1]]\n",
    "\n",
    "a11 = 0 \n",
    "a12 = -1J \n",
    "a21 = 1J \n",
    "a22 = 0 \n",
    "\n",
    "A = [[a11, a12], [a21, a22]] \n",
    "nShots = 10000\n",
    "\n",
    "print(\"The input matrix is\", A)"
   ]
  },
  {
   "cell_type": "code",
   "execution_count": 48,
   "metadata": {},
   "outputs": [],
   "source": [
    "def mapAtoU(A):\n",
    "    thetaA = 2*math.acos(a11)\n",
    "    phiA = 1j*cmath.log(limDivision(-a21, cmath.sin(thetaA/2)))\n",
    "    lambdaA = -1j*cmath.log(limDivision(-a12, cmath.sin(thetaA/2)))\n",
    "    \n",
    "    paramsA = [thetaA, phiA, lambdaA]\n",
    "    \n",
    "    return paramsA"
   ]
  },
  {
   "cell_type": "code",
   "execution_count": 49,
   "metadata": {},
   "outputs": [
    {
     "data": {
      "image/png": "[encoded data removed]",
      "text/plain": [
       "<Figure size 609.106x144.48 with 1 Axes>"
      ]
     },
     "execution_count": 49,
     "metadata": {},
     "output_type": "execute_result"
    }
   ],
   "source": [
    "def variationalCircuit(params):\n",
    "    \n",
    "    q = QuantumRegister(1, 'q')\n",
    "    c = ClassicalRegister(1, 'c')\n",
    "    qc = QuantumCircuit(q, c, name = 'variationalCircuit')\n",
    "    qc.h(0)\n",
    "    qc.u3(params[0], params[1], params[2], 0)\n",
    "    qc.u3(paramsA[0], paramsA[1], paramsA[2], 0)\n",
    "    qc.u3(params[0], params[1], params[2], 0)\n",
    "    qc.h(0)\n",
    "    qc.measure(q[0], c[0])\n",
    "    return qc\n",
    "    \n",
    "variationalCircuit([0.5, 0.5, 0.5]).draw('mpl')"
   ]
  },
  {
   "cell_type": "code",
   "execution_count": 50,
   "metadata": {},
   "outputs": [],
   "source": [
    "def objective_function(params):\n",
    "    \n",
    "    q = QuantumRegister(1, 'q')\n",
    "    c = ClassicalRegister(1, 'c')\n",
    "    qc = QuantumCircuit(q, c, name = 'objective_function')\n",
    "    \n",
    "    qc.append(variationalCircuit(params), range(1), range(1))\n",
    "    \n",
    "    from qiskit import Aer, execute\n",
    "    simulator = Aer.get_backend('qasm_simulator')\n",
    "    counts = execute(qc, backend=simulator, shots=nShots).result().get_counts(qc)\n",
    "    \n",
    "    if '0' not in counts:\n",
    "        counts['0'] = 0\n",
    "        \n",
    "    if '1' not in counts:\n",
    "        counts['1'] = 0\n",
    "    \n",
    "    cost = (counts['1'] - 0) \n",
    "    \n",
    "    return cost\n",
    "\n",
    "\n",
    "#objective_function([0.5, 0.5, 0.5], A, 1000).draw('mpl')"
   ]
  },
  {
   "cell_type": "code",
   "execution_count": 51,
   "metadata": {},
   "outputs": [
    {
     "name": "stdout",
     "output_type": "stream",
     "text": [
      "Output Error (Manhattan Distance): 0.0\n",
      "\n",
      "Parameters Found: [ 0.0024519   1.9782506  -0.40358949]\n",
      "\n",
      "Norm: 1.0022549046048517\n",
      "\n",
      "Eigenvector Found: [[(0.7071066994168789+0.00034005847681330625j)], [(-0.0030728652037320357+0.7071001042988464j)]]\n",
      "\n",
      "Difference: [[0.2928933 -3.40058477e-04j]\n",
      " [0.00307287-7.07100104e-01j]] \n",
      "\n",
      " [[-0.7071067 -3.40058477e-04j]\n",
      " [ 1.00307287-7.07100104e-01j]]\n"
     ]
    }
   ],
   "source": [
    "from qiskit.aqua.components.optimizers import COBYLA\n",
    "\n",
    "optimizer = COBYLA(maxiter=10000, tol=0.001/nShots)\n",
    "\n",
    "params = np.random.rand(3)\n",
    "ret = optimizer.optimize(num_vars=3, objective_function=objective_function, initial_point=params)\n",
    "\n",
    "element11 = cmath.cos(ret[0][0]/2)\n",
    "element12 = cmath.exp(-1J*ret[0][2])*cmath.sin(ret[0][0]/2)\n",
    "element21 = cmath.exp(1J*ret[0][1])*cmath.sin(ret[0][0]/2)\n",
    "element22 = cmath.exp(1J*(ret[0][1] + ret[0][2]))*cmath.cos(ret[0][0]/2)\n",
    "\n",
    "#normalizingFactor = 1.0\n",
    "\n",
    "eigen1 = (element11 + element12)/np.sqrt(2)\n",
    "eigen2 = (element21 + element22)/np.sqrt(2)\n",
    "\n",
    "norm = pow(np.abs(eigen1), 2) + pow(np.abs(eigen2), 2) \n",
    "normalizingFactor = math.sqrt(norm)\n",
    "\n",
    "eigenvector = [[(eigen1)/normalizingFactor], [(eigen2)/normalizingFactor]]\n",
    "\n",
    "diff1 = np.array(true_value1) - np.array(eigenvector)\n",
    "diff2 = np.array(true_value2) - np.array(eigenvector)\n",
    "\n",
    "print(\"Output Error (Manhattan Distance):\", ret[1])\n",
    "print(\"\\nParameters Found:\", ret[0])\n",
    "print(\"\\nNorm:\", norm)\n",
    "print(\"\\nEigenvector Found:\", eigenvector)\n",
    "print(\"\\nDifference:\", diff1, \"\\n\\n\", diff2)"
   ]
  },
  {
   "cell_type": "code",
   "execution_count": 52,
   "metadata": {},
   "outputs": [
    {
     "data": {
      "image/png": "[encoded data removed]",
      "text/plain": [
       "<Figure size 504x360 with 1 Axes>"
      ]
     },
     "execution_count": 52,
     "metadata": {},
     "output_type": "execute_result"
    }
   ],
   "source": [
    "qc = variationalCircuit(ret[0])\n",
    "simulator = Aer.get_backend('qasm_simulator')\n",
    "counts = execute(qc, backend=simulator, shots=nShots).result().get_counts(qc)\n",
    "plot_histogram(counts)"
   ]
  },
  {
   "cell_type": "code",
   "execution_count": null,
   "metadata": {},
   "outputs": [],
   "source": []
  }
 ],
 "metadata": {
  "kernelspec": {
   "display_name": "Python 3",
   "language": "python",
   "name": "python3"
  },
  "language_info": {
   "codemirror_mode": {
    "name": "ipython",
    "version": 3
   },
   "file_extension": ".py",
   "mimetype": "text/x-python",
   "name": "python",
   "nbconvert_exporter": "python",
   "pygments_lexer": "ipython3",
   "version": "3.7.3"
  }
 },
 "nbformat": 4,
 "nbformat_minor": 4
}
